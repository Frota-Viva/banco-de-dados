{
 "cells": [
  {
   "cell_type": "markdown",
   "id": "5ba608c2",
   "metadata": {},
   "source": [
    "# Dataload - Frota Viva"
   ]
  },
  {
   "cell_type": "markdown",
   "id": "6134ea01",
   "metadata": {},
   "source": [
    "### Importando as bibliotecas necessárias"
   ]
  },
  {
   "cell_type": "code",
   "execution_count": 13,
   "id": "79042745",
   "metadata": {},
   "outputs": [],
   "source": [
    "from faker import Faker # para geração de dados ficticios\n",
    "import random # para gerar numeros aleatorios\n",
    "from datetime import datetime # para gerar os valores de data da tabela informações\n",
    "\n",
    "# definindo lingua do faker para portugues \n",
    "# e a seed com o mesmo numero em ambas\n",
    "# para a geração do mesmo padrão de valores\n",
    "fake = Faker(\"pt-BR\")\n",
    "Faker.seed(1)\n",
    "random.seed(1)"
   ]
  },
  {
   "cell_type": "markdown",
   "id": "19be4f8c",
   "metadata": {},
   "source": [
    "### Função para tirar os caracteres indevidos"
   ]
  },
  {
   "cell_type": "code",
   "execution_count": 14,
   "id": "076abe8b",
   "metadata": {},
   "outputs": [],
   "source": [
    "def desmascarar(s):\n",
    "    r = str(s)\n",
    "    return r.replace('(','').replace(\")\",'').replace(' ', '').replace('+','').replace('/','').replace('-','').replace('.','')"
   ]
  },
  {
   "cell_type": "markdown",
   "id": "3a080b04",
   "metadata": {},
   "source": [
    "### Empresa"
   ]
  },
  {
   "cell_type": "code",
   "execution_count": 15,
   "id": "b871e5f6",
   "metadata": {},
   "outputs": [],
   "source": [
    "try:\n",
    "    with open(\"../sql/scriptDataload.sql\", \"a\", encoding='utf-8') as o:\n",
    "        insert = \"\\nINSERT INTO Empresa (id, tipo_empresa, cnpj, email, senha, nome, cep, rua, complemento, numero, pais, estado, cidade) VALUES\\n\"\n",
    "        o.write(insert)\n",
    "\n",
    "    for i in range(10):\n",
    "        \n",
    "        id = i + 1\n",
    "        tipo_empresa = random.choice([\"Transportadora\", \"Logistica\", \"Distribuidora\"])\n",
    "        cnpj= desmascarar(fake.cnpj())\n",
    "        email = fake.company_email()\n",
    "        senha = fake.password()\n",
    "        nome = fake.company()\n",
    "        cep = desmascarar(fake.postcode())\n",
    "        rua = fake.street_name()\n",
    "        complemento = None\n",
    "        numero = random.randint(1,9999)\n",
    "        pais = \"Brasil\"\n",
    "        estado = \"SP\"\n",
    "        cidade = fake.city()\n",
    "\n",
    "    \n",
    "        with open(\"../sql/scriptDataload.sql\", \"a\", encoding='utf-8') as o:\n",
    "            sql = \"\"\n",
    "            sql += f\"( {id}, '{tipo_empresa}', '{cnpj}', '{email}', '{senha}', '{nome}', '{cep}', '{rua}', '{complemento}', {numero}, '{pais}', '{estado}', '{cidade}'){',' if i != 9 else ';'}\\n\"\n",
    "            o.write(sql)\n",
    "            \n",
    "except FileNotFoundError:\n",
    "    print('Arquivo não encontado ao escrever o insert')"
   ]
  },
  {
   "cell_type": "markdown",
   "id": "a93a16c3",
   "metadata": {},
   "source": [
    "### Motoristas"
   ]
  },
  {
   "cell_type": "code",
   "execution_count": 16,
   "id": "441702f3",
   "metadata": {},
   "outputs": [],
   "source": [
    "try:\n",
    "    with open(\"../sql/scriptDataload.sql\", \"a\", encoding='utf-8') as o:\n",
    "        insert = \"\\nINSERT INTO Motorista (id, nome, email, cpf, senha, id_empresa) VALUES\\n\"\n",
    "        o.write(insert)\n",
    "\n",
    "    for i in range(10):\n",
    "        \n",
    "        id = i + 1\n",
    "        nome = fake.name()\n",
    "        email = fake.email()\n",
    "        cpf = desmascarar(fake.cpf())\n",
    "        senha = fake.password()\n",
    "        id_empresa = random.randint(1,10)\n",
    "\n",
    "        \n",
    "        with open(\"../sql/scriptDataload.sql\", \"a\", encoding='utf-8') as o:\n",
    "            sql = \"\"\n",
    "            sql += f\"( {id}, '{nome}', '{email}', '{cpf}', '{senha}', {id_empresa}){',' if i != 9 else ';'}\\n\"\n",
    "            o.write(sql)\n",
    "             \n",
    "except FileNotFoundError:\n",
    "    print('Arquivo não encontado ao escrever o insert da tabela motorista')"
   ]
  },
  {
   "cell_type": "markdown",
   "id": "2e7e92c0",
   "metadata": {},
   "source": [
    "### Frota"
   ]
  },
  {
   "cell_type": "code",
   "execution_count": 17,
   "id": "d2558da9",
   "metadata": {},
   "outputs": [],
   "source": [
    "try:\n",
    "    with open(\"../sql/scriptDataload.sql\", \"a\") as o:\n",
    "        insert = \"\\nINSERT INTO Frota(id, tamanho_frota, tipo_frota, regiao, id_empresa ) VALUES\\n\"\n",
    "        o.write(insert)\n",
    "\n",
    "    for i in range(10):\n",
    "\n",
    "        id = i + 1\n",
    "        tamanho_frota = random.randint(2, 13000)\n",
    "        tipo_frota = random.choice([\"Comercial\", \"Entregas\", \"Empresarial\", \"Executiva\", \"Serviços Públicos\"])\n",
    "        regiao =\"SP\"\n",
    "        id_empresa = i + 1\n",
    "        \n",
    "        with open(\"../sql/scriptDataload.sql\", \"a\", encoding='utf-8') as o:\n",
    "            sql = \"\"\n",
    "            sql += f\"({id}, {tamanho_frota}, '{tipo_frota}', '{regiao}', {id_empresa}){',' if i != 9 else ';'}\\n\"\n",
    "            o.write(sql)\n",
    "\n",
    "except FileNotFoundError:\n",
    "    print('Arquivo não encontado ao escrever o insert da tabela frota')"
   ]
  },
  {
   "cell_type": "markdown",
   "id": "f716d25e",
   "metadata": {},
   "source": [
    "### Caminhão"
   ]
  },
  {
   "cell_type": "code",
   "execution_count": 18,
   "id": "9c4bc0f0",
   "metadata": {},
   "outputs": [],
   "source": [
    "try:\n",
    "    with open(\"../sql/scriptDataload.sql\", \"a\", encoding='utf-8') as o:\n",
    "        insert = \"\\nINSERT INTO Caminhao(id, placa, status, kms_rodados, modelo, capacidade, id_frota) VALUES\\n\"\n",
    "        o.write(insert)\n",
    "\n",
    "    for i in range(10):\n",
    "\n",
    "        id = i + 1\n",
    "        placa = fake.bothify(text=\"???#?##\").upper()\n",
    "        status = fake.random_element(elements=(\"I\", \"A\", \"M\"))\n",
    "        kms_rodados = random.randint(1,9999)\n",
    "        modelo = fake.random_element(elements=(\"FURGOES\",\"CARREGA-TUDO\",\"TANQUE\",\"LINHA-LEVE\", \"GRANELEIRO\", \"BASCULANTE\", \"FLORESTAL\", \"PORTA-CONTAINER\"))\n",
    "        capacidade = random.randint(1,999)\n",
    "        id_frota = random.randint(1,10)\n",
    "   \n",
    "    \n",
    "        with open(\"../sql/scriptDataload.sql\", \"a\", encoding='utf-8') as o:\n",
    "            sql = f\"({id}, '{placa}', '{status}', {kms_rodados}, '{modelo}', {capacidade}, {id_frota}){',' if i != 9 else ';'}\\n\"\n",
    "            o.write(sql)\n",
    "except FileNotFoundError:\n",
    "    print('Arquivo não encontado ao escrever os dados do insert na tabela caminhao')"
   ]
  },
  {
   "cell_type": "markdown",
   "id": "71b5e7d1",
   "metadata": {},
   "source": [
    "### Entregas"
   ]
  },
  {
   "cell_type": "code",
   "execution_count": 19,
   "id": "457b1370",
   "metadata": {},
   "outputs": [],
   "source": [
    "try:\n",
    "    with open(\"../sql/scriptDataload.sql\", \"a\") as o:\n",
    "        insert = \"\\nINSERT INTO Entrega(cod_entrega, descricao_produto, dt_pedido, dt_entrega, cep, rua, complemento, numero, pais, estado, cidade, id_motorista) VALUES\\n\"\n",
    "        o.write(insert)\n",
    "\n",
    "    for i in range(10):\n",
    "\n",
    "        cod_entrega = i + 1\n",
    "        descricao_produto = fake.sentence(4)\n",
    "        dt_pedido = fake.date_this_year()\n",
    "        dt_entrega = fake.date_between(start_date=dt_pedido, end_date='today')\n",
    "        cep = desmascarar(fake.postcode())\n",
    "        rua = fake.street_name()\n",
    "        complemento = fake.sentence(3)\n",
    "        numero = random.randint(1,99999)\n",
    "        pais = 'Brasil'\n",
    "        estado = 'SP'\n",
    "        cidade = fake.city()\n",
    "        id_motorista = random.randint(1,10)\n",
    "\n",
    "        \n",
    "        with open(\"../sql/scriptDataload.sql\", \"a\", encoding='utf-8') as o:            \n",
    "            sql = \"\"\n",
    "            sql = f\"({cod_entrega}, '{descricao_produto}', '{dt_pedido}', '{dt_entrega}', '{cep}', '{rua}', '{complemento}', {numero}, '{pais}', '{estado}', '{cidade}', {id_motorista} ){',' if i != 9 else ';'}\\n\"\n",
    "            o.write(sql)\n",
    "except FileNotFoundError:\n",
    "    print('Arquivo não encontado ao escrever os dados na tabela entregas')"
   ]
  },
  {
   "cell_type": "markdown",
   "id": "a25ca773",
   "metadata": {},
   "source": [
    "### Telefones da empresa"
   ]
  },
  {
   "cell_type": "code",
   "execution_count": 20,
   "id": "1fd98cec",
   "metadata": {},
   "outputs": [],
   "source": [
    "try:\n",
    "    with open(\"../sql/scriptDataload.sql\", \"a\", encoding='utf-8') as o:\n",
    "        insert = \"\\nINSERT INTO Telefone_Empresa(id, telefone_empresa, id_empresa) VALUES\\n\"\n",
    "        o.write(insert)\n",
    "\n",
    "    for i in range(10):\n",
    "        \n",
    "        id = i + 1\n",
    "        telefone_empresa = fake.bothify(text=\"##9########\")\n",
    "        id_empresa = i + 1\n",
    "\n",
    "        \n",
    "        \n",
    "        with open(\"../sql/scriptDataload.sql\", \"a\", encoding='utf-8') as o:\n",
    "            sql = \"\"\n",
    "            sql += f\"({id}, '{telefone_empresa}' ,{id_empresa}){',' if i != 9 else ';'}\\n\"\n",
    "            o.write(sql)\n",
    "\n",
    "except FileNotFoundError:\n",
    "    print('Arquivo não encontado ao escrever os dados no insert da tabela telefone_empresa')"
   ]
  },
  {
   "cell_type": "markdown",
   "id": "e163bd1a",
   "metadata": {},
   "source": [
    "### Telefone dos motoristas"
   ]
  },
  {
   "cell_type": "code",
   "execution_count": 21,
   "id": "93c1ff3f",
   "metadata": {},
   "outputs": [],
   "source": [
    "# escrevendo primeiro o insert\n",
    "try:\n",
    "    with open(\"../sql/scriptDataload.sql\", \"a\", encoding='utf-8') as o:\n",
    "        insert = \"\\nINSERT INTO Telefone_Motorista(id, telefone_motorista, id_motorista) VALUES\\n\"\n",
    "        o.write(insert)\n",
    "\n",
    "# criando os atributos ficticios\n",
    "    for i in range(10):\n",
    "\n",
    "        id= i + 1\n",
    "        telefone_motorista = fake.bothify(text=\"##9########\")\n",
    "        id_motorista= i + 1\n",
    "        \n",
    "        with open(\"../sql/scriptDataload.sql\", \"a\", encoding='utf-8') as o:\n",
    "            sql = \"\"\n",
    "            sql += f\"({id}, '{telefone_motorista}' ,{id_motorista}){',' if i != 9 else ';'}\\n\"\n",
    "            o.write(sql)\n",
    "\n",
    "except FileNotFoundError:\n",
    "    print('Arquivo não encontado ao escrever os dados do insert')"
   ]
  },
  {
   "cell_type": "markdown",
   "id": "0db91052",
   "metadata": {},
   "source": [
    "### Informações"
   ]
  },
  {
   "cell_type": "code",
   "execution_count": 22,
   "id": "24b5b2fc",
   "metadata": {},
   "outputs": [],
   "source": [
    "try:\n",
    "\twith open(\"../sql/scriptDataload.sql\", \"a\", encoding='utf-8') as o:\n",
    "\t\tinsert = \"\\nINSERT INTO Informacoes(id, temp_ar_admissao, posicao_acelerador, tempo_motor_ligado, carga_motor, rpm_motor, dt_hora_leitura, pressao_pneu, sensores_oxigenio, qtd_combustivel, temp_arrefecimento, pressao_coletor_admissao, id_caminhao) VALUES\\n\"\n",
    "\t\to.write(insert)\n",
    "\n",
    "\tstart_date = datetime(2023, 1, 1, 0, 0, 0)\n",
    "\tend_date = datetime.now()\n",
    "\n",
    "\tfor i in range(10):\n",
    "\n",
    "\t\t# para gerar um datetime \n",
    "\t\tdata = fake.date_object() # gerando data \n",
    "\t\thora = fake.time_object() # gerando hora\n",
    "\t\tdatacombinada = datetime.combine(data, hora) # juntando os dois em uma string\n",
    "\n",
    "\t\tid = i + 1  \n",
    "\t\ttempr_ar_admissao = random.randint(15, 45) \n",
    "\t\tposicao_acelerador = random.randint(0, 100) \n",
    "\t\ttempo_motor_ligado = fake.time_object()\n",
    "\t\tcarga_motor = random.randint(0, 100)  \n",
    "\t\trpm_motor = random.randint(600, 3000)\n",
    "\t\tdt_hora_leitura =  datacombinada.strftime(\"%Y-%m-%d %H:%M:%S\") # formatando a data \n",
    "\t\tpressao_pneu = round(random.uniform(28.0, 36.0), 2) \n",
    "\t\tsensores_oxigenio = random.randint(0, 1) \n",
    "\t\tqtd_combustivel = random.randint(0, 200) \n",
    "\t\ttemp_arrefecimento = random.randint(70, 110) \n",
    "\t\tpressao_coletor_admissao = round(random.uniform(0.8, 2.5), 2) \n",
    "\t\tid_caminhao = random.randint(1, 10)    \n",
    "\n",
    "\t\twith open(\"../sql/scriptDataload.sql\", \"a\", encoding='utf-8') as o:\n",
    "\t\t\tsql = f\"({id}, {tempr_ar_admissao}, {posicao_acelerador}, '{tempo_motor_ligado}', {carga_motor}, {rpm_motor}, '{dt_hora_leitura}', {pressao_pneu}, {sensores_oxigenio}, {qtd_combustivel}, {temp_arrefecimento}, {pressao_coletor_admissao}, {id_caminhao}){',' if i != 9 else ';'}\\n\"\n",
    "\t\t\to.write(sql)\n",
    "\n",
    "except FileNotFoundError:\n",
    "\tprint('Arquivo não encontado ao escrever os dados no insert da tabela informacoes')"
   ]
  },
  {
   "cell_type": "markdown",
   "id": "00a178f9",
   "metadata": {},
   "source": [
    "### Manutenções"
   ]
  },
  {
   "cell_type": "code",
   "execution_count": 23,
   "id": "90166697",
   "metadata": {},
   "outputs": [],
   "source": [
    "try:\n",
    "    with open(\"../sql/scriptDataload.sql\", \"a\", encoding='utf-8') as o:\n",
    "        insert = \"\\nINSERT INTO Manutencao(id, dt_cadastro, dt_conclusao, tipo_manutencao, custo, ultimo_motorista, descricao_servico, id_caminhao) VALUES \\n\"\n",
    "        o.write(insert)\n",
    "\n",
    "    for i in range(10):\n",
    "        \n",
    "        id = i + 1\n",
    "        dt_cadastro = fake.date_between_dates(date_start='-2y')\n",
    "        dt_conclusao = fake.date_between_dates(date_start=dt_cadastro)\n",
    "        tipo_manutencao = fake.random_element(elements=(\"Corretiva\",\"Preventiva\"))\n",
    "        custo = random.randint(100,50000)\n",
    "        ultimo_motorista = random.randint(1, 10)\n",
    "        descricao_servico = fake.text(50)\n",
    "        id_caminhao = random.randint(1, 10)\n",
    "    \n",
    "        \n",
    "        with open(\"../sql/scriptDataload.sql\", \"a\", encoding='utf-8') as o:\n",
    "            sql = \"\"\n",
    "            sql = f\"({id}, '{dt_cadastro}', '{dt_conclusao}', '{tipo_manutencao}', {custo}, {ultimo_motorista}, '{descricao_servico}', {id_caminhao}){',' if i != 9 else ';'}\\n\"\n",
    "            o.write(sql)\n",
    "except FileNotFoundError:\n",
    "    print('Arquivo não encontado ao escrever os dados do insert')"
   ]
  },
  {
   "cell_type": "markdown",
   "id": "c496a5ae",
   "metadata": {},
   "source": [
    "### Tabela de ligação Motorista Caminhão"
   ]
  },
  {
   "cell_type": "code",
   "execution_count": 24,
   "id": "ff707bbd",
   "metadata": {},
   "outputs": [],
   "source": [
    "try:\n",
    "    with open(\"../sql/scriptDataload.sql\", \"a\", encoding='utf-8') as o:\n",
    "        insert = \"\\nINSERT INTO Caminhao_Motorista(id, id_caminhao, id_motorista) VALUES \\n\"\n",
    "        o.write(insert)\n",
    "\n",
    "    for i in range(10):\n",
    "        \n",
    "        id = i + 1\n",
    "        id_caminhao = random.randint(1,10)\n",
    "        id_motorista = random.randint(1,10)\n",
    "    \n",
    "        \n",
    "        with open(\"../sql/scriptDataload.sql\", \"a\", encoding='utf-8') as o:\n",
    "            sql = \"\"\n",
    "            sql = f\"({id}, {id_caminhao}, {id_motorista} ){',' if i != 9 else ';'}\\n\"\n",
    "            o.write(sql)\n",
    "except FileNotFoundError:\n",
    "    print('Arquivo não encontado ao escrever os dados do insert')"
   ]
  }
 ],
 "metadata": {
  "kernelspec": {
   "display_name": "Python 3",
   "language": "python",
   "name": "python3"
  },
  "language_info": {
   "codemirror_mode": {
    "name": "ipython",
    "version": 3
   },
   "file_extension": ".py",
   "mimetype": "text/x-python",
   "name": "python",
   "nbconvert_exporter": "python",
   "pygments_lexer": "ipython3",
   "version": "3.11.2"
  }
 },
 "nbformat": 4,
 "nbformat_minor": 5
}
